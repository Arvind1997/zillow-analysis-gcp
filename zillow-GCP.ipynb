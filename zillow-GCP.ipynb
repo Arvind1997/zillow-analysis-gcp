{
 "cells": [
  {
   "cell_type": "code",
   "execution_count": 346,
   "id": "e05b6a8c-239e-458d-9588-765fbec0e0a9",
   "metadata": {},
   "outputs": [],
   "source": [
    "import requests\n",
    "import json\n",
    "import pandas as pd"
   ]
  },
  {
   "cell_type": "code",
   "execution_count": 347,
   "id": "58e853d1-8772-479c-92c1-93f7eddd199f",
   "metadata": {},
   "outputs": [],
   "source": [
    "identifier = { 'Id': [], 'fips': [], 'apn': [], 'attomid': [] }\n",
    "lot = { 'lotSize1': [] }\n",
    "address = { 'country': [], 'countrySubd': [], 'line1': [], 'line2': [], 'locality': [], 'matchCode': [], 'oneLine': [], \n",
    "           'postal1': [], 'postal2': [], 'postal3': []} \n",
    "location = { 'accuracy': [], 'latitude': [], 'longitude': [], 'distance': [], 'geoid': []}\n",
    "summary = { 'propclass': [], 'propsubtype': [], 'proptype': [], 'propertyType': [], 'yearBuilt': [], 'propLandUse': [], 'propIndicator': [] }\n",
    "size = { 'universalSize': [] }\n",
    "geoIdV4 = []\n",
    "rooms = { 'bathstotal': [], 'beds': [] }\n",
    "vintage = { 'lastModified': [], 'pubDate': [] }\n",
    "sale = { 'saleSearchDate': [], 'saleTransDate': [], 'saleamt': [], 'salecode': [], 'salerecdate': [], 'saledisclosuretype': [], 'saledoctype': [], \n",
    "        'saledocnum': [], 'saletranstype': [], 'priceperbed': [], 'pricepersizeunit': [] }"
   ]
  },
  {
   "cell_type": "code",
   "execution_count": 362,
   "id": "1b7daf37-aee6-471e-ac81-3586eb69a44e",
   "metadata": {},
   "outputs": [],
   "source": [
    "        conn = http.client.HTTPSConnection(\"api.gateway.attomdata.com\")\n",
    "        headers = { \n",
    "        'accept': \"application/json\", \n",
    "        'apikey': \"34788ca7034081670f8f72797fb044b9\", \n",
    "        } \n",
    "    \n",
    "        urlSale = \"/propertyapi/v1.0.0/saleshistory/snapshot?attomid=209716918\"\n",
    "        conn.request(\"GET\", urlSale, headers=headers)\n",
    "        resSale = conn.getresponse()\n",
    "        dataSale = resSale.read().decode('utf-8')\n",
    "        dataSale = json.loads(dataSale)"
   ]
  },
  {
   "cell_type": "code",
   "execution_count": 363,
   "id": "6d404934-34e9-4057-9648-3b49bdc58e59",
   "metadata": {},
   "outputs": [
    {
     "data": {
      "text/plain": [
       "{'Response': {'status': {'version': '1.0.0',\n",
       "   'code': '401',\n",
       "   'msg': 'Unauthorized',\n",
       "   'total': '0',\n",
       "   'page': '0',\n",
       "   'pagesize': '0'}}}"
      ]
     },
     "execution_count": 363,
     "metadata": {},
     "output_type": "execute_result"
    }
   ],
   "source": [
    "dataSale"
   ]
  },
  {
   "cell_type": "code",
   "execution_count": 348,
   "id": "3efe3afa-11d3-4078-bfda-acd1c80800e0",
   "metadata": {},
   "outputs": [],
   "source": [
    "import http.client \n",
    "\n",
    "conn = http.client.HTTPSConnection(\"api.gateway.attomdata.com\")\n",
    "zip_code = [47401, 47402, 47403, 47404, 47405, 47406, 47407, 47408]\n",
    "\n",
    "for i in zip_code:\n",
    "    url = '/propertyapi/v1.0.0/property/snapshot?postalcode='+str(i)+'&minUniversalSize=1&maxUniversalSize=100000'\n",
    "\n",
    "\n",
    "    headers = { \n",
    "        'accept': \"application/json\", \n",
    "        'apikey': \"9f30a480be922db73ebf2dcf0505d870\", \n",
    "    } \n",
    "\n",
    "    conn.request(\"GET\", url, headers=headers) \n",
    "    \n",
    "    res = conn.getresponse()\n",
    "    data = res.read().decode('utf-8')\n",
    "    data_json = json.loads(data)\n",
    "    \n",
    "    for i in data_json['property']:\n",
    "        identifier['Id'].append(i['identifier']['Id'])\n",
    "        identifier['fips'].append(i['identifier']['fips'])\n",
    "        identifier['apn'].append(i['identifier']['apn'])\n",
    "        identifier['attomid'].append(i['identifier']['attomId'])\n",
    "        if i.get('lot'):\n",
    "            lot['lotSize1'].append(i['lot']['lotSize1'])\n",
    "        else:\n",
    "            lot['lotSize1'].append({})\n",
    "        address['country'].append(i['address']['country'])\n",
    "        address['countrySubd'].append(i['address']['countrySubd'])\n",
    "        address['line1'].append(i['address']['line1'])\n",
    "        address['line2'].append(i['address']['line2'])\n",
    "        address['locality'].append(i['address']['locality'])\n",
    "        address['oneLine'].append(i['address']['oneLine'])\n",
    "        address['matchCode'].append(i['address']['matchCode'])\n",
    "        address['postal1'].append(i['address']['postal1'])\n",
    "        address['postal2'].append(i['address']['postal2'])\n",
    "        if i['address'].get('postal3'):\n",
    "            address['postal3'].append(i['address']['postal3'])\n",
    "        else:\n",
    "            address['postal3'].append({})\n",
    "        summary['propclass'].append(i['summary']['propclass'])\n",
    "        summary['propsubtype'].append(i['summary']['propsubtype'])\n",
    "        summary['proptype'].append(i['summary']['proptype'])\n",
    "        summary['propertyType'].append(i['summary']['propertyType'])\n",
    "        summary['yearBuilt'].append(i['summary']['yearbuilt'])\n",
    "        summary['propLandUse'].append(i['summary']['propLandUse'])\n",
    "        summary['propIndicator'].append(i['summary']['propIndicator'])  \n",
    "        location['accuracy'].append(i['location']['accuracy'])\n",
    "        location['latitude'].append(i['location']['latitude'])\n",
    "        location['longitude'].append(i['location']['longitude'])\n",
    "        location['distance'].append(i['location']['distance'])\n",
    "        location['geoid'].append(i['location']['geoid'])\n",
    "        size['universalSize'].append(i['building']['size']['universalsize'])\n",
    "        geoIdV4.append(i['location']['geoIdV4'])\n",
    "        if i['building']['rooms'].get('bathstotal'):\n",
    "            rooms['bathstotal'].append(i['building']['rooms']['bathstotal'])\n",
    "        else:\n",
    "            rooms['bathstotal'].append({}) \n",
    "        if i['building']['rooms'].get('beds'):\n",
    "            rooms['beds'].append(i['building']['rooms']['beds'])\n",
    "        else:\n",
    "            rooms['beds'].append({})\n",
    "        vintage['lastModified'].append(i['vintage']['lastModified'])\n",
    "        vintage['pubDate'].append(i['vintage']['pubDate'])"
   ]
  },
  {
   "cell_type": "code",
   "execution_count": 361,
   "id": "6a10da66-aba1-4312-b92c-69a64ff527d6",
   "metadata": {},
   "outputs": [
    {
     "data": {
      "text/plain": [
       "[228127,\n",
       " 359725,\n",
       " 383676,\n",
       " 465925,\n",
       " 468621,\n",
       " 541807,\n",
       " 4537797,\n",
       " 7182949,\n",
       " 7424088,\n",
       " 7424376,\n",
       " 234774856,\n",
       " 228092,\n",
       " 289880,\n",
       " 304292,\n",
       " 383668,\n",
       " 383678,\n",
       " 383680,\n",
       " 448201,\n",
       " 782470,\n",
       " 3762253,\n",
       " 4684526,\n",
       " 92919,\n",
       " 4725323,\n",
       " 5308635,\n",
       " 7100320,\n",
       " 7100329,\n",
       " 7100330,\n",
       " 7268654,\n",
       " 7611895,\n",
       " 8415833,\n",
       " 8415840,\n",
       " 209671798,\n",
       " 209678208,\n",
       " 209702874,\n",
       " 209709720,\n",
       " 209716918,\n",
       " 209725047,\n",
       " 209744632,\n",
       " 209744648,\n",
       " 234772794,\n",
       " 238158605,\n",
       " 209675540,\n",
       " 209678030,\n",
       " 209678031,\n",
       " 209678032,\n",
       " 209678033,\n",
       " 209682385,\n",
       " 209682487,\n",
       " 209682488,\n",
       " 209682489,\n",
       " 209687398,\n",
       " 288131,\n",
       " 331452,\n",
       " 388099,\n",
       " 7483164,\n",
       " 8415822,\n",
       " 8415827,\n",
       " 8415842,\n",
       " 8587316,\n",
       " 8587380,\n",
       " 8773123]"
      ]
     },
     "execution_count": 361,
     "metadata": {},
     "output_type": "execute_result"
    }
   ],
   "source": [
    "identifier['attomid']"
   ]
  },
  {
   "cell_type": "code",
   "execution_count": 360,
   "id": "84c2163e-f800-4e9e-8e74-039f850c4b8d",
   "metadata": {},
   "outputs": [
    {
     "ename": "KeyError",
     "evalue": "'property'",
     "output_type": "error",
     "traceback": [
      "\u001b[1;31m---------------------------------------------------------------------------\u001b[0m",
      "\u001b[1;31mKeyError\u001b[0m                                  Traceback (most recent call last)",
      "Cell \u001b[1;32mIn[360], line 15\u001b[0m\n\u001b[0;32m     12\u001b[0m dataSale \u001b[38;5;241m=\u001b[39m resSale\u001b[38;5;241m.\u001b[39mread()\u001b[38;5;241m.\u001b[39mdecode(\u001b[38;5;124m'\u001b[39m\u001b[38;5;124mutf-8\u001b[39m\u001b[38;5;124m'\u001b[39m)\n\u001b[0;32m     13\u001b[0m dataSale \u001b[38;5;241m=\u001b[39m json\u001b[38;5;241m.\u001b[39mloads(dataSale)\n\u001b[1;32m---> 15\u001b[0m \u001b[38;5;28;01mfor\u001b[39;00m j \u001b[38;5;129;01min\u001b[39;00m \u001b[43mdataSale\u001b[49m\u001b[43m[\u001b[49m\u001b[38;5;124;43m'\u001b[39;49m\u001b[38;5;124;43mproperty\u001b[39;49m\u001b[38;5;124;43m'\u001b[39;49m\u001b[43m]\u001b[49m:\n\u001b[0;32m     16\u001b[0m     \u001b[38;5;28;01mif\u001b[39;00m j[\u001b[38;5;124m'\u001b[39m\u001b[38;5;124msalehistory\u001b[39m\u001b[38;5;124m'\u001b[39m][\u001b[38;5;241m0\u001b[39m]\u001b[38;5;241m.\u001b[39mget(\u001b[38;5;124m'\u001b[39m\u001b[38;5;124msaleSearchDate\u001b[39m\u001b[38;5;124m'\u001b[39m):\n\u001b[0;32m     17\u001b[0m         sale[\u001b[38;5;124m'\u001b[39m\u001b[38;5;124msaleSearchDate\u001b[39m\u001b[38;5;124m'\u001b[39m]\u001b[38;5;241m.\u001b[39mappend(j[\u001b[38;5;124m'\u001b[39m\u001b[38;5;124msalehistory\u001b[39m\u001b[38;5;124m'\u001b[39m][\u001b[38;5;241m0\u001b[39m][\u001b[38;5;124m'\u001b[39m\u001b[38;5;124msaleSearchDate\u001b[39m\u001b[38;5;124m'\u001b[39m])\n",
      "\u001b[1;31mKeyError\u001b[0m: 'property'"
     ]
    }
   ],
   "source": [
    "for i in identifier['attomid']:\n",
    "\n",
    "        conn = http.client.HTTPSConnection(\"api.gateway.attomdata.com\")\n",
    "        headers = { \n",
    "        'accept': \"application/json\", \n",
    "        'apikey': \"34788ca7034081670f8f72797fb044b9\", \n",
    "        } \n",
    "    \n",
    "        urlSale = \"/propertyapi/v1.0.0/saleshistory/snapshot?attomid=\"+str(i)\n",
    "        conn.request(\"GET\", urlSale, headers=headers)\n",
    "        resSale = conn.getresponse()\n",
    "        dataSale = resSale.read().decode('utf-8')\n",
    "        dataSale = json.loads(dataSale)\n",
    "\n",
    "        for j in dataSale['property']:\n",
    "            if j['salehistory'][0].get('saleSearchDate'):\n",
    "                sale['saleSearchDate'].append(j['salehistory'][0]['saleSearchDate'])\n",
    "            else:\n",
    "                sale['saleSearchDate'].append('-')\n",
    "            if j['salehistory'][0].get('saleTransDate'):\n",
    "                sale['saleTransDate'].append(j['salehistory'][0]['saleTransDate'])\n",
    "            else:\n",
    "                sale['saleTransDate'].append('-')\n",
    "            if j['salehistory'][0]['amount'].get('saleamt'):\n",
    "                sale['saleamt'].append(j['salehistory'][0]['amount']['saleamt'])\n",
    "            else:\n",
    "                sale['saleamt'].append('-')\n",
    "            if j['salehistory'][0]['amount'].get('salecode'):   \n",
    "                sale['salecode'].append(j['salehistory'][0]['amount']['salecode'])\n",
    "            else:\n",
    "                sale['salecode'].append('-')\n",
    "            if j['salehistory'][0]['amount'].get('salerecdate'):\n",
    "                sale['salerecdate'].append(j['salehistory'][0]['amount']['salerecdate'])\n",
    "            else:\n",
    "                sale['salerecdate'].append('-')\n",
    "            if j['salehistory'][0]['amount'].get('saledisclosuretype'):\n",
    "                sale['saledisclosuretype'].append(j['salehistory'][0]['amount']['saledisclosuretype'])\n",
    "            else:\n",
    "                sale['saledisclosuretype'].append('-')\n",
    "            if j['salehistory'][0]['amount'].get('saledoctype'):\n",
    "                sale['saledoctype'].append(j['salehistory'][0]['amount']['saledoctype'])\n",
    "            else:\n",
    "                sale['saledoctype'].append('-')\n",
    "            if j['salehistory'][0]['amount'].get('saledocnum'):\n",
    "                sale['saledocnum'].append(j['salehistory'][0]['amount']['saledocnum'])\n",
    "            else:\n",
    "                sale['saledocnum'].append('-')\n",
    "            if j['salehistory'][0]['amount'].get('saletranstype'):\n",
    "                sale['saletranstype'].append(j['salehistory'][0]['amount']['saletranstype'])\n",
    "            else:\n",
    "                sale['saletranstype'].append('-')\n",
    "            if j['salehistory'][0]['calculation'].get('priceperbed'):\n",
    "                sale['priceperbed'].append(j['salehistory'][0]['calculation']['priceperbed'])\n",
    "            else:\n",
    "                sale['priceperbed'].append('-')\n",
    "            if j['salehistory'][0]['calculation'].get('priccepersizeunit'):\n",
    "                sale['pricepersizeunit'].append(j['salehistory'][0]['calculation']['pricepersizeunit'])\n",
    "            else:\n",
    "                sale['pricepersizeunit'].append('-')"
   ]
  },
  {
   "cell_type": "code",
   "execution_count": 356,
   "id": "ba874693-1d1e-47cc-b86d-e0ca4373fab2",
   "metadata": {},
   "outputs": [
    {
     "data": {
      "text/plain": [
       "{'Response': {'status': {'version': '1.0.0',\n",
       "   'code': '401',\n",
       "   'msg': 'Unauthorized',\n",
       "   'total': '0',\n",
       "   'page': '0',\n",
       "   'pagesize': '0'}}}"
      ]
     },
     "execution_count": 356,
     "metadata": {},
     "output_type": "execute_result"
    }
   ],
   "source": [
    "dataSale"
   ]
  },
  {
   "cell_type": "code",
   "execution_count": 364,
   "id": "7ac1f8b0-1bcd-4fc2-bac3-f8da4b62c532",
   "metadata": {},
   "outputs": [
    {
     "name": "stdout",
     "output_type": "stream",
     "text": [
      "<class 'pandas.core.frame.DataFrame'>\n",
      "RangeIndex: 61 entries, 0 to 60\n",
      "Data columns (total 57 columns):\n",
      " #   Column              Non-Null Count  Dtype  \n",
      "---  ------              --------------  -----  \n",
      " 0   Id                  61 non-null     int64  \n",
      " 1   fips                61 non-null     object \n",
      " 2   apn                 61 non-null     object \n",
      " 3   attomid             61 non-null     int64  \n",
      " 4   Address_ID          61 non-null     int64  \n",
      " 5   country             61 non-null     object \n",
      " 6   countrySubd         61 non-null     object \n",
      " 7   line1               61 non-null     object \n",
      " 8   line2               61 non-null     object \n",
      " 9   locality            61 non-null     object \n",
      " 10  matchCode           61 non-null     object \n",
      " 11  oneLine             61 non-null     object \n",
      " 12  postal1             61 non-null     object \n",
      " 13  postal2             61 non-null     object \n",
      " 14  postal3             61 non-null     object \n",
      " 15  Location_ID         61 non-null     int64  \n",
      " 16  accuracy            61 non-null     object \n",
      " 17  latitude            61 non-null     object \n",
      " 18  longitude           61 non-null     object \n",
      " 19  distance            61 non-null     float64\n",
      " 20  geoid               61 non-null     object \n",
      " 21  Property_ID         61 non-null     int64  \n",
      " 22  propclass           61 non-null     object \n",
      " 23  propsubtype         61 non-null     object \n",
      " 24  proptype            61 non-null     object \n",
      " 25  propertyType        61 non-null     object \n",
      " 26  yearBuilt           61 non-null     int64  \n",
      " 27  propLandUse         61 non-null     object \n",
      " 28  propIndicator       61 non-null     object \n",
      " 29  universalSize       61 non-null     int64  \n",
      " 30  LotSize(In Acres)   61 non-null     object \n",
      " 31  geoIdV4_ID          61 non-null     int64  \n",
      " 32  CO                  61 non-null     object \n",
      " 33  CS                  61 non-null     object \n",
      " 34  DB                  60 non-null     object \n",
      " 35  PL                  40 non-null     object \n",
      " 36  SB                  60 non-null     object \n",
      " 37  ZI                  61 non-null     object \n",
      " 38  N2                  36 non-null     object \n",
      " 39  N4                  16 non-null     object \n",
      " 40  rooms_ID            61 non-null     int64  \n",
      " 41  bathstotal          61 non-null     object \n",
      " 42  beds                61 non-null     object \n",
      " 43  lastModified        61 non-null     object \n",
      " 44  pubDate             61 non-null     object \n",
      " 45  sale_ID             61 non-null     int64  \n",
      " 46  saleSearchDate      61 non-null     object \n",
      " 47  saleTransDate       61 non-null     object \n",
      " 48  saleamt             61 non-null     object \n",
      " 49  salecode            61 non-null     object \n",
      " 50  salerecdate         61 non-null     object \n",
      " 51  saledisclosuretype  61 non-null     int64  \n",
      " 52  saledoctype         61 non-null     object \n",
      " 53  saledocnum          61 non-null     object \n",
      " 54  saletranstype       61 non-null     object \n",
      " 55  priceperbed         61 non-null     object \n",
      " 56  pricepersizeunit    61 non-null     object \n",
      "dtypes: float64(1), int64(11), object(45)\n",
      "memory usage: 27.3+ KB\n"
     ]
    }
   ],
   "source": [
    "all_df.info()"
   ]
  },
  {
   "cell_type": "code",
   "execution_count": 162,
   "id": "3c9dab1a-fb6f-4df2-a724-4b4695f90d3c",
   "metadata": {},
   "outputs": [],
   "source": [
    "identifier_df = pd.DataFrame(identifier)\n",
    "lot_df = pd.DataFrame(lot)\n",
    "address_df = pd.DataFrame(address)\n",
    "location_df = pd.DataFrame(location)\n",
    "summary_df = pd.DataFrame(summary)\n",
    "size_df = pd.DataFrame(size)\n",
    "geoIdV4_df = pd.DataFrame(geoIdV4)\n",
    "rooms_df = pd.DataFrame(rooms)\n",
    "vintage_df = pd.DataFrame(vintage)\n",
    "sale_df = pd.DataFrame(sale)"
   ]
  },
  {
   "cell_type": "code",
   "execution_count": 321,
   "id": "f9e44626-cbf5-4312-803a-ee97d5b45005",
   "metadata": {},
   "outputs": [],
   "source": [
    "all_df = all_df.join(sale_df)"
   ]
  },
  {
   "cell_type": "code",
   "execution_count": 172,
   "id": "92b8a7b4-8c4f-41b9-88e4-9a1dc006d037",
   "metadata": {},
   "outputs": [],
   "source": [
    "summary_df.insert(0, 'Property_ID', range(1, 1 + len(summary_df)))"
   ]
  },
  {
   "cell_type": "code",
   "execution_count": 181,
   "id": "9c0dda27-e061-4959-bd9f-e9046f5089d8",
   "metadata": {},
   "outputs": [],
   "source": [
    "location_df.insert(0, 'Location_ID', range(1000, 1000 + len(location_df)))"
   ]
  },
  {
   "cell_type": "code",
   "execution_count": 185,
   "id": "ddc97638-b7ba-4903-830c-a8e777c6918d",
   "metadata": {},
   "outputs": [],
   "source": [
    "lot_df = lot_df.rename(columns = {'lotSize1': 'LotSize(In Acres)'})"
   ]
  },
  {
   "cell_type": "code",
   "execution_count": 189,
   "id": "718fa1aa-9caf-4780-a9d1-1e114e96cf74",
   "metadata": {},
   "outputs": [],
   "source": [
    "size_df = size_df.join(lot_df)"
   ]
  },
  {
   "cell_type": "code",
   "execution_count": 192,
   "id": "f0f0b3fd-62b1-43ad-83ff-8a537c5863ac",
   "metadata": {},
   "outputs": [],
   "source": [
    "address_df.insert(0, 'Address_ID', range(2000, 2000 + len(address_df)))"
   ]
  },
  {
   "cell_type": "code",
   "execution_count": 194,
   "id": "37a7a5ce-5c4b-4040-9065-34d4533c9baa",
   "metadata": {},
   "outputs": [],
   "source": [
    "geoIdV4_df.insert(0, 'geoIdV4_ID', range(10000, 10000 + len(address_df)))"
   ]
  },
  {
   "cell_type": "code",
   "execution_count": 195,
   "id": "f13e9f5c-6b56-450b-8217-f66cc0706d65",
   "metadata": {},
   "outputs": [],
   "source": [
    "sale_df.insert(0, 'sale_ID', range(1, 1 + len(sale_df)))"
   ]
  },
  {
   "cell_type": "code",
   "execution_count": 338,
   "id": "9d369b12-9cc2-4c1d-b0e2-96d3a86a875e",
   "metadata": {},
   "outputs": [],
   "source": [
    "factZillow = all_df[['Id', 'Address_ID', 'Property_ID', 'Location_ID', 'geoIdV4_ID', 'pubDate', 'bathstotal', 'beds', 'universalSize', 'LotSize(In Acres)', 'yearBuilt',\n",
    "             'latitude', 'longitude', 'sale_ID', 'saleamt', 'salerecdate', 'priceperbed', 'pricepersizeunit']]"
   ]
  },
  {
   "cell_type": "code",
   "execution_count": 309,
   "id": "a2bf8162-c20d-4bd6-8765-1de863f85da6",
   "metadata": {},
   "outputs": [],
   "source": [
    "rooms_df = all_df[['bathstotal', 'beds']]"
   ]
  },
  {
   "cell_type": "code",
   "execution_count": 310,
   "id": "56ea97a1-1bb2-4c3a-a48f-fd914cc7b4f8",
   "metadata": {},
   "outputs": [
    {
     "name": "stderr",
     "output_type": "stream",
     "text": [
      "C:\\Users\\nkarv\\AppData\\Local\\Temp\\ipykernel_24724\\1138123691.py:1: SettingWithCopyWarning: \n",
      "A value is trying to be set on a copy of a slice from a DataFrame.\n",
      "Try using .loc[row_indexer,col_indexer] = value instead\n",
      "\n",
      "See the caveats in the documentation: https://pandas.pydata.org/pandas-docs/stable/user_guide/indexing.html#returning-a-view-versus-a-copy\n",
      "  rooms_df[rooms_df['bathstotal'] == {}] = 0\n",
      "C:\\Users\\nkarv\\AppData\\Local\\Temp\\ipykernel_24724\\1138123691.py:1: SettingWithCopyWarning: \n",
      "A value is trying to be set on a copy of a slice from a DataFrame\n",
      "\n",
      "See the caveats in the documentation: https://pandas.pydata.org/pandas-docs/stable/user_guide/indexing.html#returning-a-view-versus-a-copy\n",
      "  rooms_df[rooms_df['bathstotal'] == {}] = 0\n"
     ]
    }
   ],
   "source": [
    "rooms_df[rooms_df['bathstotal'] == {}] = 0"
   ]
  },
  {
   "cell_type": "code",
   "execution_count": 311,
   "id": "f1900f0e-5b2f-4022-a777-02a110efaaf9",
   "metadata": {},
   "outputs": [],
   "source": [
    "rooms_df.insert(0, 'rooms_ID', range(1, 1 + len(rooms_df)))"
   ]
  },
  {
   "cell_type": "code",
   "execution_count": 345,
   "id": "41bd821a-5e7b-4de2-9dd3-409f929f55d8",
   "metadata": {},
   "outputs": [],
   "source": [
    "all_df.to_csv('ZillowSalesData.csv', index = False)"
   ]
  },
  {
   "cell_type": "code",
   "execution_count": 366,
   "id": "7c95b6de-767a-44a5-a534-48005b9032ad",
   "metadata": {},
   "outputs": [],
   "source": [
    "zillow_sales = pd.read_csv('ZillowSalesData.csv')"
   ]
  }
 ],
 "metadata": {
  "kernelspec": {
   "display_name": "Python 3 (ipykernel)",
   "language": "python",
   "name": "python3"
  },
  "language_info": {
   "codemirror_mode": {
    "name": "ipython",
    "version": 3
   },
   "file_extension": ".py",
   "mimetype": "text/x-python",
   "name": "python",
   "nbconvert_exporter": "python",
   "pygments_lexer": "ipython3",
   "version": "3.11.5"
  }
 },
 "nbformat": 4,
 "nbformat_minor": 5
}
